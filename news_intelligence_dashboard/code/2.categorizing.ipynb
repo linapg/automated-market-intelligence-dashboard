{
 "cells": [
  {
   "cell_type": "markdown",
   "metadata": {},
   "source": [
    "# Categorizing news"
   ]
  },
  {
   "cell_type": "markdown",
   "metadata": {},
   "source": [
    "Download the starter guide Jupyter notebook [here](https://learn.aylien.com/download/news_api_python_starter_guide.ipynb)  \n",
    "Read the documentation [here](https://docs.aylien.com/newsapi/#getting-started)"
   ]
  },
  {
   "cell_type": "markdown",
   "metadata": {},
   "source": [
    "## 1. Configuring Your API Connection<a class=\"anchor\" id=\"Configuring_Your_API_Connection\"></a>\n",
    " If you don't have any credentials yet, you can sign up for a free trial [here](https://newsapi.aylien.com/signup)."
   ]
  },
  {
   "cell_type": "code",
   "execution_count": 1,
   "metadata": {},
   "outputs": [
    {
     "name": "stderr",
     "output_type": "stream",
     "text": [
      "Python-dotenv could not parse statement starting at line 1\n",
      "Python-dotenv could not parse statement starting at line 2\n"
     ]
    },
    {
     "name": "stdout",
     "output_type": "stream",
     "text": [
      ".env file found and working\n",
      "Complete\n"
     ]
    }
   ],
   "source": [
    "\n",
    "import pandas as pd\n",
    "import numpy as np\n",
    "import hashlib\n",
    "\n",
    "#for sql handling\n",
    "import psycopg2\n",
    "import sql\n",
    "from sql import engine\n",
    "from sql import get_data\n",
    "\n",
    "\n",
    "print('Complete')"
   ]
  },
  {
   "cell_type": "markdown",
   "metadata": {},
   "source": [
    "## 2. Categorizing"
   ]
  },
  {
   "cell_type": "markdown",
   "metadata": {},
   "source": [
    "**Bring data from DBeaver**"
   ]
  },
  {
   "cell_type": "code",
   "execution_count": 2,
   "metadata": {},
   "outputs": [
    {
     "name": "stderr",
     "output_type": "stream",
     "text": [
      "/opt/homebrew/Caskroom/miniconda/base/envs/sql-practice/lib/python3.9/site-packages/pandas/io/sql.py:761: UserWarning: pandas only support SQLAlchemy connectable(engine/connection) ordatabase string URI or sqlite3 DBAPI2 connectionother DBAPI2 objects are not tested, please consider using SQLAlchemy\n",
      "  warnings.warn(\n"
     ]
    }
   ],
   "source": [
    "news = get_data(\"SELECT * FROM table\")\n",
    "news.head()"
   ]
  },
  {
   "cell_type": "markdown",
   "metadata": {},
   "source": [
    "**Categories**"
   ]
  },
  {
   "cell_type": "code",
   "execution_count": null,
   "metadata": {},
   "outputs": [],
   "source": [
    "\n",
    "keywords = { 1: ['maintenance repair and overhaul', 'maintenance repair', 'overhaul', 'line maintenance', 'base maintenance', 'heavy check', 'a-check', 'c-check', 'd-check', 'part-145', '145', 'maintenance', 'repair'],            5: ['design organisation', 'design organization', 'part-21J', '21J'],\n",
    "            6 : ['manufacturer', 'part manufacturer', 'part-21G', '21G'],\n",
    "            7 : ['supplemental type certificate', 'STC'],\n",
    "            8 : ['European (Union) Aviation Safety Agency', 'European Aviation Safety Agency', 'EASA', 'Federal Aviation Administration', 'FAA', 'Airworthiness Directive', 'AD', 'Type Certificate', 'TC'],\n",
    "            9 : ['defense', 'military'],\n",
    "            10: ['investor', 'investors', 'downgrades', 'downgrade', 'stock', 'stocks', 'accelerated depreciation', 'finance', 'financing', 'loan', 'bond', 'bonds', 'bargain purchase option', 'capitalize', 'capitalise', 'collateral', 'compound interest', 'credit', 'debtor', 'liquid', 'trade', 'acquisition', 'amortisation', 'balance sheet', 'bankruptcy', 'capital cost', 'capital structure', 'cash flow', 'chapter 11', 'credit rating', 'funding', 'hedge', 'letter of credit', 'liquidation', 'liquidity', 'partnering', 'earning ratio', 'purchase agreement', 'rating', 'wet lease', 'working capital', 'loss', 'market'],\n",
    "            2: ['job', 'jobs', 'new headquarters', 'new headquarter', 'new office', 'new offices', 'new hub', 'hub', 'opening', 'positions', 'production sites', 'trained professionals', 'hiring', 'new hangar', 'builds team', 'building team', 'labor force'],\n",
    "            3: ['sustainability', 'sustainable', 'renewable', 'environmental', 'environmental footprint', 'climate change', 'sustainable development', 'carbon dioxide emissions', 'carbon emissions', 'recycling', 'biofuels', ]\n",
    "}"
   ]
  },
  {
   "cell_type": "markdown",
   "metadata": {},
   "source": [
    "**Products**"
   ]
  },
  {
   "cell_type": "code",
   "execution_count": null,
   "metadata": {},
   "outputs": [],
   "source": [
    "products = { 10: 'Landing gear',\n",
    "            11: 'Engine',\n",
    "            12: 'Completion',\n",
    "            13: 'VIP completion',\n",
    "            14: 'Component',\n",
    "            15: 'Support',\n",
    "            16: 'LRU'}"
   ]
  },
  {
   "cell_type": "markdown",
   "metadata": {},
   "source": [
    "**Functions to save info in database**"
   ]
  },
  {
   "cell_type": "code",
   "execution_count": null,
   "metadata": {},
   "outputs": [],
   "source": [
    "# function to upload categories in a new table\n",
    "\n",
    "def save_categories(id, cat_id):\n",
    "    \n",
    "    try:\n",
    "        connection = psycopg2.connect(user=\"postgres\",\n",
    "                                    password=\"]+Dr\\DXm()`o=L:+\",\n",
    "                                    host=\"35.234.81.23\",\n",
    "                                    port=\"5432\",\n",
    "                                    database=\"postgres\")\n",
    "        cursor = connection.cursor()\n",
    "\n",
    "        postgres_insert_query = f\"INSERT INTO capstone.news_categories (news_id, cat_id) VALUES ('{id}', {cat_id})\"\n",
    "        print(postgres_insert_query)\n",
    "        cursor.execute(postgres_insert_query)\n",
    "\n",
    "        connection.commit()\n",
    "        count = cursor.rowcount\n",
    "        print(count, \"Record inserted successfully into mobile table\")\n",
    "\n",
    "    except (Exception, psycopg2.Error) as error:\n",
    "        print(\"Failed to insert record into mobile table\", error)\n",
    "\n",
    "    finally:\n",
    "        # closing database connection.\n",
    "        if connection:\n",
    "            cursor.close()\n",
    "            connection.close()\n",
    "            print(\"PostgreSQL connection is closed\")\n"
   ]
  },
  {
   "cell_type": "code",
   "execution_count": null,
   "metadata": {},
   "outputs": [],
   "source": [
    "# function to upload the product to a new table\n",
    "\n",
    "def save_products(id, prod_id):\n",
    "    \n",
    "    try:\n",
    "        connection = psycopg2.connect(user=\"postgres\",\n",
    "                                    password=\"]+Dr\\DXm()`o=L:+\",\n",
    "                                    host=\"35.234.81.23\",\n",
    "                                    port=\"5432\",\n",
    "                                    database=\"postgres\")\n",
    "        cursor = connection.cursor()\n",
    "\n",
    "        postgres_insert_query = f\"INSERT INTO capstone.news_products (news_id, prod_id) VALUES ('{id}', {prod_id})\"\n",
    "        print(postgres_insert_query)\n",
    "        cursor.execute(postgres_insert_query)\n",
    "\n",
    "        connection.commit()\n",
    "        count = cursor.rowcount\n",
    "        # print(count, \"Record inserted successfully into mobile table\")\n",
    "\n",
    "    except (Exception, psycopg2.Error) as error:\n",
    "        print(\"Failed to insert record into mobile table\", error)\n",
    "\n",
    "    finally:\n",
    "        # closing database connection.\n",
    "        if connection:\n",
    "            cursor.close()\n",
    "            connection.close()\n",
    "            print(\"PostgreSQL connection is closed\")\n"
   ]
  },
  {
   "cell_type": "markdown",
   "metadata": {},
   "source": [
    "**Looking for keywords for categories & products**"
   ]
  },
  {
   "cell_type": "code",
   "execution_count": null,
   "metadata": {},
   "outputs": [],
   "source": [
    "\n",
    "# define function to look up keywords in body\n",
    "\n",
    "def search_keyword(competitors_df):\n",
    "    for row in range(len(competitors_df)):\n",
    "        for key in keywords:\n",
    "            for value in keywords[key]:\n",
    "                lower_body = (competitors_df['body_en'][row]).lower()\n",
    "                index = lower_body.find(value)\n",
    "                if index != -1:\n",
    "                    print(competitors_df['title_en'][row], key, value)\n",
    "                    save_categories(competitors_df['id'][row], key)\n",
    "                    break\n",
    "    return competitors_df\n"
   ]
  },
  {
   "cell_type": "code",
   "execution_count": null,
   "metadata": {},
   "outputs": [],
   "source": [
    "# define function to look up product and services in body\n",
    "\n",
    "def search_product(competitors_df):\n",
    "    for row in range(len(competitors_df)):\n",
    "        for key, value in products.items():\n",
    "            print(key, value)\n",
    "            lower_body = (competitors_df['body_en'][row]).lower()\n",
    "            lower_product = value.lower()\n",
    "            index = lower_body.find(lower_product)\n",
    "            print(index)\n",
    "            if index != -1:\n",
    "                print(competitors_df['title_en'][row], key, value)\n",
    "                save_products(competitors_df['id'][row], key)\n",
    "                break\n",
    "    return competitors_df\n"
   ]
  },
  {
   "cell_type": "code",
   "execution_count": null,
   "metadata": {},
   "outputs": [],
   "source": [
    "# APPLY KEYWORD SEARCH & UPLOAD CATEGORIES TO NEW TABLE\n",
    "\n",
    "search_keyword(news)"
   ]
  },
  {
   "cell_type": "code",
   "execution_count": null,
   "metadata": {},
   "outputs": [],
   "source": [
    "# CHECK PRODUCTS AND UPLOAD NEW TABLE\n",
    "\n",
    "search_product(news)"
   ]
  },
  {
   "cell_type": "markdown",
   "metadata": {},
   "source": [
    "# Ranking news according to the score (M&A, JV, P)"
   ]
  },
  {
   "cell_type": "code",
   "execution_count": null,
   "metadata": {},
   "outputs": [],
   "source": [
    "keywords_ranking = {\n",
    "                        1: ['m&a', 'merge', 'acquisition', 'acquire'],\n",
    "                        2: ['joint venture'],\n",
    "                        3: ['partnership']\n",
    "                        }"
   ]
  },
  {
   "cell_type": "code",
   "execution_count": null,
   "metadata": {},
   "outputs": [],
   "source": [
    "# function to upload the product to a new table\n",
    "\n",
    "def save_score(id, ranking_id, score, weight):\n",
    "    \n",
    "    try:\n",
    "        connection = psycopg2.connect(user=\"postgres\",\n",
    "                                    password=\"]+Dr\\DXm()`o=L:+\",\n",
    "                                    host=\"35.234.81.23\",\n",
    "                                    port=\"5432\",\n",
    "                                    database=\"postgres\")\n",
    "        cursor = connection.cursor()\n",
    "\n",
    "        postgres_insert_query = f\"INSERT INTO capstone.news_scores(news_id, ranking_id, score, weight) VALUES ('{id}', {ranking_id}, {score}, {weight})\"\n",
    "        print(postgres_insert_query)\n",
    "        cursor.execute(postgres_insert_query)\n",
    "\n",
    "        connection.commit()\n",
    "        count = cursor.rowcount\n",
    "        # print(count, \"Record inserted successfully into mobile table\")\n",
    "\n",
    "    except (Exception, psycopg2.Error) as error:\n",
    "        print(\"Failed to insert record into mobile table\", error)\n",
    "\n",
    "    finally:\n",
    "        # closing database connection.\n",
    "        if connection:\n",
    "            cursor.close()\n",
    "            connection.close()\n",
    "            print(\"PostgreSQL connection is closed\")\n"
   ]
  },
  {
   "cell_type": "code",
   "execution_count": null,
   "metadata": {},
   "outputs": [],
   "source": [
    "# define function to look up product and services in body\n",
    "\n",
    "def rank_news(competitors_df):\n",
    "    word_found = 0\n",
    "    weight = 0\n",
    "    article_score = 0\n",
    "        \n",
    "    for row in range(len(competitors_df)):\n",
    "        lower_body = (competitors_df['body_en'][row]).lower()\n",
    "\n",
    "        # keywords\n",
    "        for key, word_list in keywords_ranking.items(): \n",
    "            \n",
    "            word_found = 0\n",
    "            weight = 0\n",
    "            \n",
    "            total = 0\n",
    "            \n",
    "            # keywords inside list        \n",
    "            for word in word_list:                   \n",
    "                index = lower_body.find(word)\n",
    "                if index != -1:\n",
    "                    word_found += 1\n",
    "                    print(competitors_df['title_en'][row], key, word)\n",
    "                    print(f'word found {word_found} of times')\n",
    "                    \n",
    "                    if key == 1:\n",
    "                        article_score = 1.0\n",
    "                        weight = article_score * word_found\n",
    "                        print('score: ', article_score, 'weight: ', weight)\n",
    "                    elif key == 2:\n",
    "                        article_score = 0.7\n",
    "                        weight = article_score * word_found\n",
    "                        print('score: ', article_score, 'weight: ', weight)\n",
    "                    elif key == 3:\n",
    "                        article_score = 0.5\n",
    "                        weight = article_score * word_found\n",
    "                        print('score: ', article_score, 'weight: ', weight) \n",
    "                    else:\n",
    "                        article_score = 0\n",
    "                        weight = article_score * word_found\n",
    "                        print('score: ', article_score, 'weight: ', weight)\n",
    "                    \n",
    "                    total = total + weight\n",
    "                    \n",
    "                    # print('INSERTED: ', competitors_df['id'][row], key, article_score, total)\n",
    "                    save_score(competitors_df['id'][row], key, article_score, total)\n",
    "    # return competitors_df\n"
   ]
  },
  {
   "cell_type": "code",
   "execution_count": null,
   "metadata": {},
   "outputs": [],
   "source": [
    "rank_news(news)"
   ]
  }
 ],
 "metadata": {
  "interpreter": {
   "hash": "43c12cbf984401a473fdf5ad54be096b36364cb85034417d000695974821cc3f"
  },
  "kernelspec": {
   "display_name": "Python 3.9.12 ('sql-practice')",
   "language": "python",
   "name": "python3"
  },
  "language_info": {
   "codemirror_mode": {
    "name": "ipython",
    "version": 3
   },
   "file_extension": ".py",
   "mimetype": "text/x-python",
   "name": "python",
   "nbconvert_exporter": "python",
   "pygments_lexer": "ipython3",
   "version": "3.9.12"
  },
  "latex_envs": {
   "LaTeX_envs_menu_present": true,
   "autoclose": false,
   "autocomplete": true,
   "bibliofile": "biblio.bib",
   "cite_by": "apalike",
   "current_citInitial": 1,
   "eqLabelWithNumbers": true,
   "eqNumInitial": 1,
   "hotkeys": {
    "equation": "Ctrl-E",
    "itemize": "Ctrl-I"
   },
   "labels_anchors": false,
   "latex_user_defs": false,
   "report_style_numbering": false,
   "user_envs_cfg": false
  },
  "toc": {
   "base_numbering": 1,
   "nav_menu": {},
   "number_sections": true,
   "sideBar": true,
   "skip_h1_title": true,
   "title_cell": "Table of Contents",
   "title_sidebar": "Contents",
   "toc_cell": true,
   "toc_position": {
    "height": "calc(100% - 180px)",
    "left": "10px",
    "top": "150px",
    "width": "360px"
   },
   "toc_section_display": true,
   "toc_window_display": true
  },
  "varInspector": {
   "cols": {
    "lenName": 16,
    "lenType": 16,
    "lenVar": 40
   },
   "kernels_config": {
    "python": {
     "delete_cmd_postfix": "",
     "delete_cmd_prefix": "del ",
     "library": "var_list.py",
     "varRefreshCmd": "print(var_dic_list())"
    },
    "r": {
     "delete_cmd_postfix": ") ",
     "delete_cmd_prefix": "rm(",
     "library": "var_list.r",
     "varRefreshCmd": "cat(var_dic_list()) "
    }
   },
   "types_to_exclude": [
    "module",
    "function",
    "builtin_function_or_method",
    "instance",
    "_Feature"
   ],
   "window_display": false
  }
 },
 "nbformat": 4,
 "nbformat_minor": 2
}
